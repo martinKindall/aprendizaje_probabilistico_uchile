{
 "cells": [
  {
   "cell_type": "markdown",
   "metadata": {},
   "source": [
    "# Proyecto: Clasificación de tópicos de interés\n",
    "\n",
    "MA5203 - Aprendizaje de Máquinas Probabilístico\n",
    "\n",
    "Profesor: Felipe Tobar\n",
    "\n",
    "Autor: Martín Cornejo"
   ]
  },
  {
   "cell_type": "markdown",
   "metadata": {},
   "source": [
    "## Paquetes necesarios"
   ]
  },
  {
   "cell_type": "code",
   "execution_count": 1,
   "metadata": {},
   "outputs": [],
   "source": [
    "import numpy as np\n",
    "import matplotlib.pyplot as plt\n",
    "import pdb\n",
    "import itertools\n",
    "import operator\n",
    "\n",
    "import pandas as pd\n",
    "\n",
    "from nltk.stem.snowball import SpanishStemmer\n",
    "\n",
    "from sklearn.feature_extraction.text import CountVectorizer\n",
    "from sklearn.decomposition import LatentDirichletAllocation\n",
    "from sklearn.feature_extraction.text import TfidfTransformer\n",
    "from sklearn.naive_bayes import BernoulliNB\n",
    "from sklearn.linear_model import SGDClassifier\n",
    "from sklearn.pipeline import Pipeline\n",
    "from sklearn.semi_supervised import label_propagation\n",
    "from sklearn.model_selection import train_test_split\n",
    "\n",
    "import pyLDAvis\n",
    "import pyLDAvis.sklearn\n",
    "pyLDAvis.enable_notebook()"
   ]
  },
  {
   "cell_type": "code",
   "execution_count": 2,
   "metadata": {
    "scrolled": true
   },
   "outputs": [
    {
     "name": "stdout",
     "output_type": "stream",
     "text": [
      "(234, 2)\n"
     ]
    },
    {
     "data": {
      "text/html": [
       "<div>\n",
       "<style scoped>\n",
       "    .dataframe tbody tr th:only-of-type {\n",
       "        vertical-align: middle;\n",
       "    }\n",
       "\n",
       "    .dataframe tbody tr th {\n",
       "        vertical-align: top;\n",
       "    }\n",
       "\n",
       "    .dataframe thead th {\n",
       "        text-align: right;\n",
       "    }\n",
       "</style>\n",
       "<table border=\"1\" class=\"dataframe\">\n",
       "  <thead>\n",
       "    <tr style=\"text-align: right;\">\n",
       "      <th></th>\n",
       "      <th>Texto</th>\n",
       "      <th>Interes</th>\n",
       "    </tr>\n",
       "  </thead>\n",
       "  <tbody>\n",
       "    <tr>\n",
       "      <th>0</th>\n",
       "      <td>Ojalá obliguen a Piñera a cerrar Punta Peuco, ...</td>\n",
       "      <td>0</td>\n",
       "    </tr>\n",
       "    <tr>\n",
       "      <th>1</th>\n",
       "      <td>Piñera para crear base de apoyo moderada a su ...</td>\n",
       "      <td>1</td>\n",
       "    </tr>\n",
       "    <tr>\n",
       "      <th>2</th>\n",
       "      <td>@CNNChile MEMORIA 2014 Adimark: Piñera termina...</td>\n",
       "      <td>1</td>\n",
       "    </tr>\n",
       "    <tr>\n",
       "      <th>3</th>\n",
       "      <td>PPK y Piñera en privado habrían conversado alg...</td>\n",
       "      <td>0</td>\n",
       "    </tr>\n",
       "    <tr>\n",
       "      <th>4</th>\n",
       "      <td>Bachelet entregará el gobierno de Chile a Piñera</td>\n",
       "      <td>1</td>\n",
       "    </tr>\n",
       "  </tbody>\n",
       "</table>\n",
       "</div>"
      ],
      "text/plain": [
       "                                               Texto  Interes\n",
       "0  Ojalá obliguen a Piñera a cerrar Punta Peuco, ...        0\n",
       "1  Piñera para crear base de apoyo moderada a su ...        1\n",
       "2  @CNNChile MEMORIA 2014 Adimark: Piñera termina...        1\n",
       "3  PPK y Piñera en privado habrían conversado alg...        0\n",
       "4   Bachelet entregará el gobierno de Chile a Piñera        1"
      ]
     },
     "execution_count": 2,
     "metadata": {},
     "output_type": "execute_result"
    }
   ],
   "source": [
    "datos=pd.read_csv('data_format.csv')\n",
    "print(datos.shape)\n",
    "datos.head()"
   ]
  },
  {
   "cell_type": "markdown",
   "metadata": {},
   "source": [
    "## Limpiando strings"
   ]
  },
  {
   "cell_type": "markdown",
   "metadata": {},
   "source": [
    "### Reemplazar tildes, caracteres especiales, todo a minúsculas"
   ]
  },
  {
   "cell_type": "code",
   "execution_count": 3,
   "metadata": {},
   "outputs": [
    {
     "name": "stdout",
     "output_type": "stream",
     "text": [
      "0    ojala obliguen a piñera a cerrar punta peuco e...\n",
      "1    piñera para crear base de apoyo moderada a su ...\n",
      "2    cnnchile memoria  adimark piñera termina su go...\n",
      "3    ppk y piñera en privado habrian conversado alg...\n",
      "4     bachelet entregara el gobierno de chile a piñera\n",
      "dtype: object\n"
     ]
    },
    {
     "name": "stderr",
     "output_type": "stream",
     "text": [
      "/usr/local/lib/python3.5/dist-packages/ipykernel_launcher.py:1: DeprecationWarning: \n",
      ".ix is deprecated. Please use\n",
      ".loc for label based indexing or\n",
      ".iloc for positional indexing\n",
      "\n",
      "See the documentation here:\n",
      "http://pandas.pydata.org/pandas-docs/stable/indexing.html#ix-indexer-is-deprecated\n",
      "  \"\"\"Entry point for launching an IPython kernel.\n"
     ]
    }
   ],
   "source": [
    "strings = datos.ix[:,0]\n",
    "\n",
    "def formatear(strings):\n",
    "    tildes = ['á','é','í','ó','ú']\n",
    "    vocales = ['a','e','i','o','u']\n",
    "\n",
    "    # tildes\n",
    "    for idx, vocal in enumerate(vocales):\n",
    "        strings = strings.str.replace(tildes[idx],vocal)\n",
    "\n",
    "    # caracteres especiales menos la ñ\n",
    "    strings = strings.str.replace('[^a-zñA-Z ]', \"\")\n",
    "\n",
    "    # todo a minusculas\n",
    "    strings = pd.Series(list(map(lambda x: x.lower(), strings)))\n",
    "    \n",
    "    return strings\n",
    "\n",
    "def oracionToStrArr(strings):\n",
    "    strings_arr = list(map(lambda x: x.split(), strings))\n",
    "    #pdb.set_trace()\n",
    "    strings_arr = list(itertools.chain.from_iterable(strings_arr))    \n",
    "    return strings_arr\n",
    "\n",
    "print(formatear(strings).head())\n",
    "formated_array_data = oracionToStrArr(formatear(strings))"
   ]
  },
  {
   "cell_type": "markdown",
   "metadata": {},
   "source": [
    "## Exportando data limpia para ser procesada por Stanford TMT"
   ]
  },
  {
   "cell_type": "code",
   "execution_count": 4,
   "metadata": {},
   "outputs": [
    {
     "name": "stderr",
     "output_type": "stream",
     "text": [
      "/usr/local/lib/python3.5/dist-packages/ipykernel_launcher.py:5: DeprecationWarning: \n",
      ".ix is deprecated. Please use\n",
      ".loc for label based indexing or\n",
      ".iloc for positional indexing\n",
      "\n",
      "See the documentation here:\n",
      "http://pandas.pydata.org/pandas-docs/stable/indexing.html#ix-indexer-is-deprecated\n",
      "  \"\"\"\n",
      "/usr/local/lib/python3.5/dist-packages/ipykernel_launcher.py:11: DeprecationWarning: \n",
      ".ix is deprecated. Please use\n",
      ".loc for label based indexing or\n",
      ".iloc for positional indexing\n",
      "\n",
      "See the documentation here:\n",
      "http://pandas.pydata.org/pandas-docs/stable/indexing.html#ix-indexer-is-deprecated\n",
      "  # This is added back by InteractiveShellApp.init_path()\n"
     ]
    }
   ],
   "source": [
    "data_train, data_test = train_test_split(datos, test_size = 0.2, random_state = 4)\n",
    "\n",
    "# pdb.set_trace()\n",
    "\n",
    "data_limpia = formatear(data_train.ix[:,0])\n",
    "data_limpia = pd.concat([data_limpia, pd.DataFrame(np.array(data_train.ix[:,1]))], axis=1)\n",
    "data_limpia.head()\n",
    "data_limpia.to_csv(\"data_limpia_train.csv\", sep=';')\n",
    "\n",
    "\n",
    "data_limpia_test = formatear(data_test.ix[:,0])\n",
    "data_limpia_test = pd.concat([data_limpia_test, pd.DataFrame(np.array(data_test.ix[:,1]))], axis=1)\n",
    "data_limpia_test.to_csv(\"data_limpia_test.csv\", sep=';')\n",
    "\n",
    "X_train = data_train.ix[:,0]\n",
    "y_train = np.array(data_train.ix[:,1])\n",
    "\n",
    "X_test = data_test.ix[:,0]\n",
    "y_test = np.array(data_test.ix[:,1])"
   ]
  },
  {
   "cell_type": "markdown",
   "metadata": {},
   "source": [
    "## Funciones auxiliares (conteo y ordenar repetidas)"
   ]
  },
  {
   "cell_type": "code",
   "execution_count": 5,
   "metadata": {},
   "outputs": [],
   "source": [
    "def most_common(str_arr):\n",
    "  # get an iterable of (item, iterable) pairs\n",
    "  SL = sorted((x, i) for i, x in enumerate(str_arr))\n",
    "  list_pairs = []\n",
    "  #print('SL:', SL)\n",
    "  groups = itertools.groupby(SL, key=operator.itemgetter(0))\n",
    "    \n",
    "  # auxiliary function to get \"quality\" for an item\n",
    "  def _auxfun(g):\n",
    "    item, iterable = g\n",
    "    count = 0\n",
    "    min_index = len(str_arr)\n",
    "    for _, where in iterable:\n",
    "      count += 1\n",
    "      min_index = min(min_index, where)\n",
    "    list_pairs.append((item, count))\n",
    "    #print('item %r, count %r, minind %r' % (item, count, min_index))\n",
    "    return count, -min_index\n",
    "\n",
    "  return max(groups, key=_auxfun)[0], list_pairs\n",
    "\n",
    "def aplicar_ordenar_str_arr(func, str_arr):\n",
    "    arr = list(map(func, str_arr))\n",
    "    common, pairs = most_common(arr)\n",
    "    pares_filtrados = list(filter(lambda x: len(x[0]) > 3, pairs))\n",
    "    common_sorted = sorted(pares_filtrados, key=lambda tup: tup[1], reverse=True)\n",
    "    return common_sorted"
   ]
  },
  {
   "cell_type": "markdown",
   "metadata": {},
   "source": [
    "## Separando data por clases"
   ]
  },
  {
   "cell_type": "code",
   "execution_count": 6,
   "metadata": {},
   "outputs": [
    {
     "name": "stderr",
     "output_type": "stream",
     "text": [
      "/usr/local/lib/python3.5/dist-packages/ipykernel_launcher.py:3: DeprecationWarning: \n",
      ".ix is deprecated. Please use\n",
      ".loc for label based indexing or\n",
      ".iloc for positional indexing\n",
      "\n",
      "See the documentation here:\n",
      "http://pandas.pydata.org/pandas-docs/stable/indexing.html#ix-indexer-is-deprecated\n",
      "  This is separate from the ipykernel package so we can avoid doing imports until\n",
      "/usr/local/lib/python3.5/dist-packages/ipykernel_launcher.py:7: DeprecationWarning: \n",
      ".ix is deprecated. Please use\n",
      ".loc for label based indexing or\n",
      ".iloc for positional indexing\n",
      "\n",
      "See the documentation here:\n",
      "http://pandas.pydata.org/pandas-docs/stable/indexing.html#ix-indexer-is-deprecated\n",
      "  import sys\n"
     ]
    }
   ],
   "source": [
    "datos_interes = datos[datos.Interes == True]\n",
    "#print(datos_interes.head())\n",
    "str_interes = datos_interes.ix[:,0]\n",
    "\n",
    "datos_no_interes = datos[datos.Interes == False]\n",
    "#print(datos_no_interes.head())\n",
    "str_no_interes = datos_no_interes.ix[:,0]"
   ]
  },
  {
   "cell_type": "markdown",
   "metadata": {},
   "source": [
    "## Stemming por clases"
   ]
  },
  {
   "cell_type": "code",
   "execution_count": 7,
   "metadata": {},
   "outputs": [
    {
     "data": {
      "text/plain": [
       "0          (piñer, 116)\n",
       "1         (gobiern, 36)\n",
       "2       (president, 36)\n",
       "3            (chil, 28)\n",
       "4        (bachelet, 27)\n",
       "5         (sebasti, 26)\n",
       "6            (esta, 13)\n",
       "7            (pais, 12)\n",
       "8            (asum, 11)\n",
       "9            (mand, 11)\n",
       "10           (años, 10)\n",
       "11           (este, 10)\n",
       "12          (mañan, 10)\n",
       "13            (pued, 9)\n",
       "14            (nuev, 8)\n",
       "15         (reunion, 8)\n",
       "16           (activ, 7)\n",
       "17           (cambi, 7)\n",
       "18          (derech, 7)\n",
       "19          (doming, 7)\n",
       "20          (gobern, 7)\n",
       "21           (polit, 7)\n",
       "22          (termin, 7)\n",
       "23            (tien, 7)\n",
       "24          (entreg, 6)\n",
       "25           (macri, 6)\n",
       "26           (mejor, 6)\n",
       "27          (nuestr, 6)\n",
       "28            (peuc, 6)\n",
       "29            (punt, 6)\n",
       "             ...       \n",
       "725         (travaj, 1)\n",
       "726        (tremend, 1)\n",
       "727          (trist, 1)\n",
       "728           (twet, 1)\n",
       "729          (twitt, 1)\n",
       "730        (twitter, 1)\n",
       "731           (udse, 1)\n",
       "732           (unas, 1)\n",
       "733           (unic, 1)\n",
       "734           (unos, 1)\n",
       "735         (untong, 1)\n",
       "736         (urgent, 1)\n",
       "737          (urnas, 1)\n",
       "738          (usach, 1)\n",
       "739       (vacacion, 1)\n",
       "740           (valp, 1)\n",
       "741         (vendet, 1)\n",
       "742    (venezuelaqu, 1)\n",
       "743           (veni, 1)\n",
       "744           (verd, 1)\n",
       "745           (vide, 1)\n",
       "746           (viej, 1)\n",
       "747           (vist, 1)\n",
       "748          (vitor, 1)\n",
       "749           (volv, 1)\n",
       "750        (volveri, 1)\n",
       "751         (vulner, 1)\n",
       "752           (weon, 1)\n",
       "753           (yerk, 1)\n",
       "754           (zurd, 1)\n",
       "Length: 755, dtype: object"
      ]
     },
     "execution_count": 7,
     "metadata": {},
     "output_type": "execute_result"
    }
   ],
   "source": [
    "stemmer_es = lambda x: SpanishStemmer().stem(x)\n",
    "\n",
    "stem_interes_ordenado = pd.Series(aplicar_ordenar_str_arr(stemmer_es,oracionToStrArr(formatear(str_interes))))\n",
    "stem_no_interes_ordenado = pd.Series(aplicar_ordenar_str_arr(stemmer_es,oracionToStrArr(formatear(str_no_interes))))\n",
    "\n",
    "stem_interes_ordenado"
   ]
  },
  {
   "cell_type": "code",
   "execution_count": 8,
   "metadata": {},
   "outputs": [
    {
     "data": {
      "text/plain": [
       "0          (piñer, 115)\n",
       "1            (esta, 19)\n",
       "2       (president, 14)\n",
       "3            (ahor, 13)\n",
       "4            (chil, 11)\n",
       "5         (sebasti, 11)\n",
       "6            (bien, 10)\n",
       "7            (punt, 10)\n",
       "8          (gobiern, 8)\n",
       "9             (peuc, 8)\n",
       "10            (tien, 8)\n",
       "11        (bachelet, 7)\n",
       "12            (cerr, 7)\n",
       "13            (cobr, 7)\n",
       "14        (comision, 7)\n",
       "15           (cuand, 7)\n",
       "16        (izquierd, 7)\n",
       "17          (trabaj, 7)\n",
       "18           (culia, 6)\n",
       "19          (derech, 6)\n",
       "20            (esto, 6)\n",
       "21            (mism, 6)\n",
       "22           (quier, 6)\n",
       "23            (algo, 5)\n",
       "24            (busc, 5)\n",
       "25            (este, 5)\n",
       "26            (falt, 5)\n",
       "27            (gent, 5)\n",
       "28           (grand, 5)\n",
       "29          (nuestr, 5)\n",
       "             ...       \n",
       "777    (tramitacion, 1)\n",
       "778          (tramp, 1)\n",
       "779           (trav, 1)\n",
       "780         (travaj, 1)\n",
       "781        (tremend, 1)\n",
       "782          (trump, 1)\n",
       "783           (unic, 1)\n",
       "784           (unid, 1)\n",
       "785        (urresti, 1)\n",
       "786          (usted, 1)\n",
       "787        (vacanci, 1)\n",
       "788         (ventil, 1)\n",
       "789         (viatic, 1)\n",
       "790         (victon, 1)\n",
       "791           (viej, 1)\n",
       "792         (villeg, 1)\n",
       "793           (viol, 1)\n",
       "794       (violador, 1)\n",
       "795        (vitacur, 1)\n",
       "796         (volver, 1)\n",
       "797          (volvi, 1)\n",
       "798          (vuelt, 1)\n",
       "799           (vzla, 1)\n",
       "800         (vzolan, 1)\n",
       "801      (xkjskskfj, 1)\n",
       "802         (yendos, 1)\n",
       "803          (ziiii, 1)\n",
       "804           (zorr, 1)\n",
       "805           (zurd, 1)\n",
       "806        (zurdosn, 1)\n",
       "Length: 807, dtype: object"
      ]
     },
     "execution_count": 8,
     "metadata": {},
     "output_type": "execute_result"
    }
   ],
   "source": [
    "stem_no_interes_ordenado"
   ]
  },
  {
   "cell_type": "markdown",
   "metadata": {},
   "source": [
    "## Lematización"
   ]
  },
  {
   "cell_type": "code",
   "execution_count": 9,
   "metadata": {},
   "outputs": [],
   "source": [
    "def create_lemma_dict(filename):\n",
    "   with open(filename, 'r') as document:\n",
    "       lemma_dict = {}\n",
    "       for line in document:\n",
    "           if line.strip():  # avoid empty lines\n",
    "               value, key = line.split(None, 1) # 'None' means 'all whitespace', which is the default\n",
    "               key = key.rstrip() # rstrip() to get rid of \\r and \\n\n",
    "               lemma_dict[key] = value # adding the flections as keys to the dict\n",
    "               lemma_dict[value] = value # adding also the base word as a key\n",
    "   return lemma_dict\n",
    "\n",
    "def query_word(lemma_dict):\n",
    "   word = input(\"\\nDame una palabra en español -> \")\n",
    "   try:\n",
    "      lemma = lemma_dict[word]\n",
    "      print(\"__your happy lemma is__: {}\".format(lemma))\n",
    "   except KeyError:\n",
    "      print(\"This word is not in the dictionary!\")\n",
    "   return query_word(lemma_dict)\n",
    "\n",
    "def lemmatiser(dict):\n",
    "    def lookup(word):\n",
    "        try:\n",
    "            lemma = dict[word]\n",
    "        except:\n",
    "            lemma = word\n",
    "        \n",
    "        return lemma\n",
    "    \n",
    "    return lookup"
   ]
  },
  {
   "cell_type": "markdown",
   "metadata": {},
   "source": [
    "## Lematizando por clases"
   ]
  },
  {
   "cell_type": "code",
   "execution_count": 10,
   "metadata": {},
   "outputs": [
    {
     "name": "stderr",
     "output_type": "stream",
     "text": [
      "/usr/local/lib/python3.5/dist-packages/ipykernel_launcher.py:8: DeprecationWarning: \n",
      ".ix is deprecated. Please use\n",
      ".loc for label based indexing or\n",
      ".iloc for positional indexing\n",
      "\n",
      "See the documentation here:\n",
      "http://pandas.pydata.org/pandas-docs/stable/indexing.html#ix-indexer-is-deprecated\n",
      "  \n",
      "/usr/local/lib/python3.5/dist-packages/ipykernel_launcher.py:12: DeprecationWarning: \n",
      ".ix is deprecated. Please use\n",
      ".loc for label based indexing or\n",
      ".iloc for positional indexing\n",
      "\n",
      "See the documentation here:\n",
      "http://pandas.pydata.org/pandas-docs/stable/indexing.html#ix-indexer-is-deprecated\n",
      "  if sys.path[0] == '':\n"
     ]
    }
   ],
   "source": [
    "resource_file = 'lemmatization-es.txt'\n",
    "lemmatiser_es = lemmatiser(create_lemma_dict(resource_file))\n",
    "\n",
    "#pdb.set_trace()\n",
    "\n",
    "datos_interes = datos[datos.Interes == True]\n",
    "#print(datos_interes.head())\n",
    "str_interes = datos_interes.ix[:,0]\n",
    "\n",
    "datos_no_interes = datos[datos.Interes == False]\n",
    "#print(datos_no_interes.head())\n",
    "str_no_interes = datos_no_interes.ix[:,0]"
   ]
  },
  {
   "cell_type": "code",
   "execution_count": 11,
   "metadata": {},
   "outputs": [
    {
     "data": {
      "text/plain": [
       "0          (piñera, 116)\n",
       "1         (gobierno, 36)\n",
       "2       (presidente, 33)\n",
       "3            (chile, 28)\n",
       "4             (este, 28)\n",
       "5         (bachelet, 27)\n",
       "6        (sebastian, 26)\n",
       "7            (parir, 25)\n",
       "8            (comer, 20)\n",
       "9             (todo, 14)\n",
       "10           (haber, 12)\n",
       "11            (pais, 12)\n",
       "12           (poder, 12)\n",
       "13          (asumir, 11)\n",
       "14           (tener, 11)\n",
       "15           (hacer, 10)\n",
       "16          (mañana, 10)\n",
       "17            (sera, 10)\n",
       "18            (mando, 9)\n",
       "19             (pero, 9)\n",
       "20           (cambio, 7)\n",
       "21            (decir, 7)\n",
       "22          (domingo, 7)\n",
       "23           (entrar, 7)\n",
       "24            (estar, 7)\n",
       "25            (nuevo, 7)\n",
       "26         (terminar, 7)\n",
       "27            (tomar, 7)\n",
       "28        (actividad, 6)\n",
       "29            (deber, 6)\n",
       "             ...        \n",
       "830          (tweter, 1)\n",
       "831         (twitter, 1)\n",
       "832       (twitteros, 1)\n",
       "833            (udse, 1)\n",
       "834           (unico, 1)\n",
       "835         (untongo, 1)\n",
       "836         (urgente, 1)\n",
       "837            (urna, 1)\n",
       "838           (usach, 1)\n",
       "839        (vacación, 1)\n",
       "840           (valpo, 1)\n",
       "841         (vendeta, 1)\n",
       "842    (venezuelaque, 1)\n",
       "843           (venia, 1)\n",
       "844           (veran, 1)\n",
       "845          (verdad, 1)\n",
       "846            (vere, 1)\n",
       "847          (vestir, 1)\n",
       "848            (vida, 1)\n",
       "849           (video, 1)\n",
       "850           (viejo, 1)\n",
       "851            (vino, 1)\n",
       "852        (vitorear, 1)\n",
       "853           (vivir, 1)\n",
       "854          (volver, 1)\n",
       "855        (volveria, 1)\n",
       "856      (vulnerable, 1)\n",
       "857          (weones, 1)\n",
       "858           (yerko, 1)\n",
       "859           (zurdo, 1)\n",
       "Length: 860, dtype: object"
      ]
     },
     "execution_count": 11,
     "metadata": {},
     "output_type": "execute_result"
    }
   ],
   "source": [
    "lema_interes_ordenado = pd.Series(aplicar_ordenar_str_arr(lemmatiser_es, oracionToStrArr(formatear(str_interes))))\n",
    "lema_no_interes_ordenado = pd.Series(aplicar_ordenar_str_arr(lemmatiser_es, oracionToStrArr(formatear(str_no_interes))))\n",
    "\n",
    "lema_interes_ordenado"
   ]
  },
  {
   "cell_type": "code",
   "execution_count": 12,
   "metadata": {},
   "outputs": [
    {
     "data": {
      "text/plain": [
       "0         (piñera, 115)\n",
       "1            (este, 32)\n",
       "2           (parir, 23)\n",
       "3           (comer, 15)\n",
       "4           (haber, 15)\n",
       "5           (ahora, 13)\n",
       "6            (todo, 13)\n",
       "7      (presidente, 12)\n",
       "8           (chile, 11)\n",
       "9       (sebastian, 11)\n",
       "10          (tener, 11)\n",
       "11           (bien, 10)\n",
       "12           (hacer, 9)\n",
       "13           (dejar, 8)\n",
       "14        (gobierno, 8)\n",
       "15           (peuco, 8)\n",
       "16          (querer, 8)\n",
       "17        (bachelet, 7)\n",
       "18          (cerrar, 7)\n",
       "19          (cuando, 7)\n",
       "20           (decir, 7)\n",
       "21            (mano, 7)\n",
       "22           (punta, 7)\n",
       "23           (votar, 7)\n",
       "24           (cobre, 6)\n",
       "25           (estar, 6)\n",
       "26       (izquierdo, 6)\n",
       "27           (mismo, 6)\n",
       "28            (pero, 6)\n",
       "29            (algo, 5)\n",
       "             ...       \n",
       "913         (traves, 1)\n",
       "914       (tremendo, 1)\n",
       "915          (trump, 1)\n",
       "916          (unico, 1)\n",
       "917           (unir, 1)\n",
       "918        (urresti, 1)\n",
       "919       (vacancia, 1)\n",
       "920           (vaya, 1)\n",
       "921       (ventilar, 1)\n",
       "922       (viaticos, 1)\n",
       "923           (vice, 1)\n",
       "924         (victon, 1)\n",
       "925          (viejo, 1)\n",
       "926       (villegas, 1)\n",
       "927       (violador, 1)\n",
       "928      (violarlos, 1)\n",
       "929       (vitacura, 1)\n",
       "930          (vivir, 1)\n",
       "931        (volvera, 1)\n",
       "932         (volvio, 1)\n",
       "933         (vuelta, 1)\n",
       "934           (vzla, 1)\n",
       "935        (vzolana, 1)\n",
       "936           (weon, 1)\n",
       "937      (xkjskskfj, 1)\n",
       "938        (yendose, 1)\n",
       "939          (ziiii, 1)\n",
       "940          (zorro, 1)\n",
       "941          (zurdo, 1)\n",
       "942       (zurdosno, 1)\n",
       "Length: 943, dtype: object"
      ]
     },
     "execution_count": 12,
     "metadata": {},
     "output_type": "execute_result"
    }
   ],
   "source": [
    "lema_no_interes_ordenado"
   ]
  },
  {
   "cell_type": "markdown",
   "metadata": {},
   "source": [
    "## Tokenizing usando sklearn"
   ]
  },
  {
   "cell_type": "code",
   "execution_count": 13,
   "metadata": {},
   "outputs": [],
   "source": [
    "stop_words_es = np.genfromtxt('stop_words_es.txt', dtype='str')\n",
    "stop_words_es = formatear(pd.Series(stop_words_es))\n",
    "stop_words_es = list(map(lambda x: x, stop_words_es))"
   ]
  },
  {
   "cell_type": "code",
   "execution_count": 14,
   "metadata": {},
   "outputs": [],
   "source": [
    "tf_vectorizer = CountVectorizer(min_df=2, max_features=50, stop_words=stop_words_es)\n",
    "data = formatear(strings)\n",
    "dtm_tf = tf_vectorizer.fit_transform(data)\n",
    "#pdb.set_trace()\n",
    "#True"
   ]
  },
  {
   "cell_type": "markdown",
   "metadata": {},
   "source": [
    "## Aplicando Latent Dirichlet Allocation"
   ]
  },
  {
   "cell_type": "code",
   "execution_count": 15,
   "metadata": {},
   "outputs": [],
   "source": [
    "def print_top_words(model, feature_names, n_top_words):\n",
    "    for topic_idx, topic in enumerate(model.components_):\n",
    "        message = \"Topic #%d: \" % topic_idx\n",
    "        #pdb.set_trace()\n",
    "        message += \" \".join([feature_names[i] + \" \" + str(int(topic[i])) + \" \"\n",
    "                             for i in topic.argsort()[:-n_top_words - 1:-1]])        \n",
    "        print(message)\n",
    "    print()"
   ]
  },
  {
   "cell_type": "code",
   "execution_count": 16,
   "metadata": {},
   "outputs": [],
   "source": [
    "lda = LatentDirichletAllocation(n_components=2, max_iter=100,\n",
    "                                learning_method='online',\n",
    "                                learning_offset=10,\n",
    "                                batch_size=10,\n",
    "                                random_state=1)"
   ]
  },
  {
   "cell_type": "code",
   "execution_count": 17,
   "metadata": {
    "scrolled": false
   },
   "outputs": [
    {
     "name": "stdout",
     "output_type": "stream",
     "text": [
      "\n",
      "Topics in LDA model:\n",
      "Topic #0: piñera 97  chile 38  presidente 37  sebastian 35  pais 17  bachelet 14 \n",
      "Topic #1: piñera 134  gobierno 44  bachelet 22  todos 13  hay 11  izquierda 11 \n",
      "\n"
     ]
    }
   ],
   "source": [
    "n_top_words = 6\n",
    "lda.fit(dtm_tf)\n",
    "print(\"\\nTopics in LDA model:\")\n",
    "tf_feature_names = tf_vectorizer.get_feature_names()\n",
    "print_top_words(lda, tf_feature_names, n_top_words)"
   ]
  },
  {
   "cell_type": "code",
   "execution_count": 18,
   "metadata": {},
   "outputs": [
    {
     "name": "stderr",
     "output_type": "stream",
     "text": [
      "/home/martin/.local/lib/python3.5/site-packages/pyLDAvis/_prepare.py:387: DeprecationWarning: \n",
      ".ix is deprecated. Please use\n",
      ".loc for label based indexing or\n",
      ".iloc for positional indexing\n",
      "\n",
      "See the documentation here:\n",
      "http://pandas.pydata.org/pandas-docs/stable/indexing.html#ix-indexer-is-deprecated\n",
      "  topic_term_dists = topic_term_dists.ix[topic_order]\n"
     ]
    },
    {
     "data": {
      "text/html": [
       "\n",
       "<link rel=\"stylesheet\" type=\"text/css\" href=\"https://cdn.rawgit.com/bmabey/pyLDAvis/files/ldavis.v1.0.0.css\">\n",
       "\n",
       "\n",
       "<div id=\"ldavis_el2865140333982390336109995612\"></div>\n",
       "<script type=\"text/javascript\">\n",
       "\n",
       "var ldavis_el2865140333982390336109995612_data = {\"R\": 30, \"token.table\": {\"Topic\": [1, 2, 1, 2, 1, 2, 1, 1, 1, 2, 1, 2, 2, 1, 2, 1, 2, 1, 2, 1, 2, 1, 2, 1, 2, 1, 2, 1, 2, 1, 2, 1, 2, 1, 2, 2, 1, 2, 1, 2, 1, 2, 2, 1, 2, 1, 1, 2, 1, 2, 1, 2, 1, 1, 2, 1, 2, 1, 2, 1, 2, 1, 2, 1, 2, 1, 2, 1, 1, 2, 1, 2, 1, 2, 1, 2, 1, 1, 2, 1, 2, 1, 2, 1, 2, 1, 2, 1, 2], \"Term\": [\"asume\", \"asume\", \"a\\u00f1os\", \"a\\u00f1os\", \"bachelet\", \"bachelet\", \"cambio\", \"cerrar\", \"chile\", \"chile\", \"cierre\", \"cierre\", \"cobre\", \"comisiones\", \"comisiones\", \"da\", \"da\", \"debe\", \"debe\", \"democracia\", \"democracia\", \"derecha\", \"derecha\", \"dia\", \"dia\", \"dias\", \"dias\", \"domingo\", \"domingo\", \"esto\", \"esto\", \"gente\", \"gente\", \"gobierno\", \"gobierno\", \"hace\", \"hay\", \"hay\", \"hoy\", \"hoy\", \"izquierda\", \"izquierda\", \"ja\", \"les\", \"les\", \"macri\", \"mal\", \"mal\", \"mando\", \"manos\", \"ma\\u00f1ana\", \"ma\\u00f1ana\", \"moneda\", \"nuevo\", \"nuevo\", \"oposicion\", \"oposicion\", \"pais\", \"pais\", \"peuco\", \"peuco\", \"piera\", \"piera\", \"pi\\u00f1era\", \"pi\\u00f1era\", \"ppk\", \"ppk\", \"presidenta\", \"presidente\", \"presidente\", \"puede\", \"puede\", \"punta\", \"punta\", \"quiere\", \"quiere\", \"reunion\", \"sea\", \"sea\", \"sebastian\", \"sebastian\", \"son\", \"son\", \"tiempos\", \"tiempos\", \"todos\", \"todos\", \"venezuela\", \"venezuela\"], \"Freq\": [0.8889274242509214, 0.11111592803136518, 0.09380850046313458, 0.9380850046313458, 0.4075876768906534, 0.5822681098437906, 0.9439871054902692, 0.9199538219150879, 0.9937709295292062, 0.026858673771059625, 0.14331970274317002, 0.8599182164590201, 0.950353757133838, 0.8663450853085438, 0.17326901706170877, 0.12526996366936646, 0.8768897456855653, 0.13960636384278263, 0.9772445468994785, 0.10085882626205908, 0.9077294363585318, 0.16031277701624524, 0.9618766620974716, 0.9382076733835557, 0.11727595917294446, 0.1384736050882039, 0.9693152356174273, 0.9543966558688902, 0.13634237940984148, 0.11242455190791253, 0.8993964152633003, 0.12408640675342399, 0.8686048472739679, 0.024801888246573603, 0.9920755298629441, 0.9375814088249492, 0.22118450606141196, 0.7372816868713732, 0.9208408699803524, 0.08371280636185022, 0.09253596222871371, 0.9253596222871372, 0.9991591466890405, 0.10123240035352107, 0.9110916031816896, 0.97074039525273, 0.16084359567736725, 0.9650615740642035, 0.9799806946823718, 0.9631038006887278, 0.923186828129434, 0.07693223567745283, 0.9253361755024755, 0.10750068360172499, 0.9675061524155248, 0.8920638715774037, 0.1486773119295673, 0.9704872456412817, 0.05708748503772246, 0.9267728341888583, 0.07129021801452756, 0.608867073702596, 0.36532024422155757, 0.4377582211447904, 0.5634972846651025, 0.1655667030652422, 0.8278335153262111, 0.9115395526320782, 0.9884430374531705, 0.027456751040365848, 0.11641067412093555, 0.9312853929674844, 0.9919024757807541, 0.0763001904446734, 0.11629744207024506, 0.9303795365619605, 0.9677565015791633, 0.16119541167159757, 0.9671724700295854, 0.9967037957769805, 0.02847725130791373, 0.9276659904104734, 0.11595824880130917, 0.1605217691367485, 0.8026088456837426, 0.07628876460402756, 0.9154651752483307, 0.09313190091699246, 0.9313190091699246]}, \"topic.order\": [1, 2], \"lambda.step\": 0.01, \"mdsDat\": {\"x\": [0.16808568073802632, -0.16808568073802632], \"cluster\": [1, 1], \"topics\": [1, 2], \"y\": [0.0, 0.0], \"Freq\": [50.70867804161758, 49.29132195838242]}, \"tinfo\": {\"Total\": [40.0, 37.0, 36.0, 35.0, 17.0, 14.0, 13.0, 13.0, 12.0, 11.0, 10.0, 10.0, 10.0, 9.0, 9.0, 9.0, 8.0, 9.0, 8.0, 8.0, 8.0, 8.0, 8.0, 8.0, 7.0, 8.0, 8.0, 7.0, 7.0, 7.0, 37.23192025503157, 36.42091515233681, 35.11574867909051, 17.51697415535501, 14.027169895822446, 13.106127182279021, 12.998452354779003, 11.945603587550043, 9.183854384924441, 8.266542241716568, 8.99960984637347, 8.241132272977286, 7.564818263155944, 8.526896791569365, 7.415355526879236, 6.522066496239637, 6.5822706021641615, 7.334476663297971, 8.623793566540218, 6.725975786229769, 5.771372268152567, 8.21197304954328, 214.7304047293017, 34.348437879185155, 13.563337023105266, 6.229684642636227, 6.039861768618694, 5.332870247786156, 6.217219876170132, 6.237805985349909, 8.05890045625329, 8.590277545864309, 9.302266427484874, 13.108090099380195, 40.31951075895, 10.737459346945899, 10.660014764791875, 13.108090099380195, 9.914848675729418, 10.806609408009182, 9.87826028532196, 8.89485422026947, 8.59864139914606, 9.302266427484874, 7.005890926581838, 8.590277545864309, 7.982759559501174, 7.162997247934539, 6.313438501148601, 6.229858085607516, 7.221592875862713, 8.05890045625329, 6.977407717569771, 6.203650523485705, 6.237805985349909, 6.217219876170132, 5.332870247786156, 6.039861768618694, 6.229684642636227, 13.563337023105266, 34.348437879185155, 214.7304047293017, 8.21197304954328, 5.771372268152567, 6.725975786229769, 8.623793566540218], \"loglift\": [30.0, 29.0, 28.0, 27.0, 26.0, 25.0, 24.0, 23.0, 22.0, 21.0, 20.0, 19.0, 18.0, 17.0, 16.0, 15.0, 14.0, 13.0, 12.0, 11.0, 10.0, 9.0, 8.0, 7.0, 6.0, 5.0, 4.0, 3.0, 2.0, 1.0, 0.6654, 0.6633, 0.6625, 0.6429, 0.6401, 0.6384, 0.636, 0.631, 0.6272, 0.6221, 0.6166, 0.6166, 0.6149, 0.6136, 0.6118, 0.6055, 0.6014, 0.6002, 0.598, 0.5913, 0.5871, 0.1954, -0.1508, -0.2199, -0.7421, -1.4061, -1.5484, -1.7142, -1.7166, -1.7795, -1.8388, -1.9365, -2.0309, -2.3285, 0.6931, 0.6578, 0.6578, 0.6567, 0.6548, 0.6526, 0.6476, 0.6474, 0.6454, 0.6386, 0.6339, 0.6315, 0.6295, 0.6291, 0.6272, 0.6261, 0.6248, 0.6234, 0.6232, 0.6193, 0.618, 0.6119, 0.6116, 0.5934, 0.5747, 0.4311, 0.1849, 0.1345, -0.251, -1.724, -1.7694, -1.8456], \"Freq\": [40.0, 37.0, 36.0, 35.0, 17.0, 14.0, 13.0, 13.0, 12.0, 11.0, 10.0, 10.0, 10.0, 9.0, 9.0, 9.0, 8.0, 9.0, 8.0, 8.0, 8.0, 8.0, 8.0, 8.0, 7.0, 8.0, 8.0, 7.0, 7.0, 7.0, 36.72473659196813, 35.84967020413084, 34.53898115215496, 16.89427753709004, 13.49050023511858, 12.584203880759498, 12.45007626606637, 11.384524535702624, 8.71934616952156, 7.8085130015204, 8.454519018270615, 7.741707060249268, 7.094939838395911, 7.986747457972317, 6.933255229519334, 6.0593713423783235, 6.090084045314427, 6.778175066101227, 7.952469109069364, 6.16090978878056, 5.264006934958864, 5.062769297279642, 93.64651570792506, 13.978943909367652, 3.274574268510781, 0.7742359316224645, 0.6511010831557837, 0.48705819170613096, 0.5664703707935264, 0.5336751363104966, 0.6497796827027882, 0.6281511279708716, 0.6189391619125889, 0.6476797772484347, 39.74799537341729, 10.217715046227127, 10.14374330718803, 12.46041032213176, 9.406776849922016, 10.230318920550522, 9.304874968245635, 8.376768466493813, 8.081905946317944, 8.683327265572284, 6.509423096635115, 7.962126417893437, 7.384357647976379, 6.623188822102545, 5.826747035049532, 5.743133925676304, 6.648811653074386, 7.409120773550502, 6.413756032432595, 5.680236251230316, 5.704130849039412, 5.650749505376606, 4.845812056080025, 5.388760685462911, 5.455448711013762, 10.288762754594485, 20.3694939698175, 121.08388902137663, 3.1492037522636376, 0.5073653331937029, 0.5650659974492093, 0.6713244574708535], \"Category\": [\"Default\", \"Default\", \"Default\", \"Default\", \"Default\", \"Default\", \"Default\", \"Default\", \"Default\", \"Default\", \"Default\", \"Default\", \"Default\", \"Default\", \"Default\", \"Default\", \"Default\", \"Default\", \"Default\", \"Default\", \"Default\", \"Default\", \"Default\", \"Default\", \"Default\", \"Default\", \"Default\", \"Default\", \"Default\", \"Default\", \"Topic1\", \"Topic1\", \"Topic1\", \"Topic1\", \"Topic1\", \"Topic1\", \"Topic1\", \"Topic1\", \"Topic1\", \"Topic1\", \"Topic1\", \"Topic1\", \"Topic1\", \"Topic1\", \"Topic1\", \"Topic1\", \"Topic1\", \"Topic1\", \"Topic1\", \"Topic1\", \"Topic1\", \"Topic1\", \"Topic1\", \"Topic1\", \"Topic1\", \"Topic1\", \"Topic1\", \"Topic1\", \"Topic1\", \"Topic1\", \"Topic1\", \"Topic1\", \"Topic1\", \"Topic1\", \"Topic2\", \"Topic2\", \"Topic2\", \"Topic2\", \"Topic2\", \"Topic2\", \"Topic2\", \"Topic2\", \"Topic2\", \"Topic2\", \"Topic2\", \"Topic2\", \"Topic2\", \"Topic2\", \"Topic2\", \"Topic2\", \"Topic2\", \"Topic2\", \"Topic2\", \"Topic2\", \"Topic2\", \"Topic2\", \"Topic2\", \"Topic2\", \"Topic2\", \"Topic2\", \"Topic2\", \"Topic2\", \"Topic2\", \"Topic2\", \"Topic2\", \"Topic2\"], \"logprob\": [30.0, 29.0, 28.0, 27.0, 26.0, 25.0, 24.0, 23.0, 22.0, 21.0, 20.0, 19.0, 18.0, 17.0, 16.0, 15.0, 14.0, 13.0, 12.0, 11.0, 10.0, 9.0, 8.0, 7.0, 6.0, 5.0, 4.0, 3.0, 2.0, 1.0, -2.3806, -2.4047, -2.442, -3.1571, -3.3821, -3.4516, -3.4623, -3.5518, -3.8185, -3.9288, -3.8494, -3.9374, -4.0247, -3.9063, -4.0477, -4.1825, -4.1774, -4.0704, -3.9106, -4.1658, -4.3232, -4.3621, -1.4445, -3.3465, -4.7979, -6.2399, -6.4131, -6.7034, -6.5524, -6.612, -6.4152, -6.449, -6.4638, -6.4184, -2.2732, -3.6316, -3.6389, -3.4332, -3.7143, -3.6304, -3.7252, -3.8302, -3.8661, -3.7943, -4.0825, -3.881, -3.9563, -4.0651, -4.1933, -4.2077, -4.0613, -3.953, -4.0973, -4.2187, -4.2145, -4.2239, -4.3776, -4.2714, -4.2591, -3.6247, -2.9417, -1.1592, -4.8086, -6.6342, -6.5265, -6.3542], \"Term\": [\"gobierno\", \"chile\", \"presidente\", \"sebastian\", \"pais\", \"peuco\", \"todos\", \"punta\", \"ma\\u00f1ana\", \"hoy\", \"venezuela\", \"a\\u00f1os\", \"izquierda\", \"democracia\", \"les\", \"mando\", \"esto\", \"nuevo\", \"quiere\", \"asume\", \"puede\", \"reunion\", \"dia\", \"macri\", \"da\", \"son\", \"gente\", \"moneda\", \"cambio\", \"ja\", \"chile\", \"presidente\", \"sebastian\", \"pais\", \"peuco\", \"punta\", \"ma\\u00f1ana\", \"hoy\", \"mando\", \"reunion\", \"asume\", \"macri\", \"moneda\", \"dia\", \"cambio\", \"cerrar\", \"presidenta\", \"domingo\", \"son\", \"oposicion\", \"comisiones\", \"piera\", \"pi\\u00f1era\", \"bachelet\", \"hay\", \"tiempos\", \"ppk\", \"hace\", \"mal\", \"derecha\", \"gente\", \"puede\", \"nuevo\", \"todos\", \"gobierno\", \"venezuela\", \"a\\u00f1os\", \"todos\", \"democracia\", \"izquierda\", \"les\", \"esto\", \"quiere\", \"nuevo\", \"ja\", \"puede\", \"da\", \"debe\", \"cobre\", \"manos\", \"dias\", \"gente\", \"cierre\", \"sea\", \"derecha\", \"mal\", \"hace\", \"ppk\", \"tiempos\", \"hay\", \"bachelet\", \"pi\\u00f1era\", \"piera\", \"comisiones\", \"oposicion\", \"son\"]}, \"plot.opts\": {\"xlab\": \"PC1\", \"ylab\": \"PC2\"}};\n",
       "\n",
       "function LDAvis_load_lib(url, callback){\n",
       "  var s = document.createElement('script');\n",
       "  s.src = url;\n",
       "  s.async = true;\n",
       "  s.onreadystatechange = s.onload = callback;\n",
       "  s.onerror = function(){console.warn(\"failed to load library \" + url);};\n",
       "  document.getElementsByTagName(\"head\")[0].appendChild(s);\n",
       "}\n",
       "\n",
       "if(typeof(LDAvis) !== \"undefined\"){\n",
       "   // already loaded: just create the visualization\n",
       "   !function(LDAvis){\n",
       "       new LDAvis(\"#\" + \"ldavis_el2865140333982390336109995612\", ldavis_el2865140333982390336109995612_data);\n",
       "   }(LDAvis);\n",
       "}else if(typeof define === \"function\" && define.amd){\n",
       "   // require.js is available: use it to load d3/LDAvis\n",
       "   require.config({paths: {d3: \"https://cdnjs.cloudflare.com/ajax/libs/d3/3.5.5/d3.min\"}});\n",
       "   require([\"d3\"], function(d3){\n",
       "      window.d3 = d3;\n",
       "      LDAvis_load_lib(\"https://cdn.rawgit.com/bmabey/pyLDAvis/files/ldavis.v1.0.0.js\", function(){\n",
       "        new LDAvis(\"#\" + \"ldavis_el2865140333982390336109995612\", ldavis_el2865140333982390336109995612_data);\n",
       "      });\n",
       "    });\n",
       "}else{\n",
       "    // require.js not available: dynamically load d3 & LDAvis\n",
       "    LDAvis_load_lib(\"https://cdnjs.cloudflare.com/ajax/libs/d3/3.5.5/d3.min.js\", function(){\n",
       "         LDAvis_load_lib(\"https://cdn.rawgit.com/bmabey/pyLDAvis/files/ldavis.v1.0.0.js\", function(){\n",
       "                 new LDAvis(\"#\" + \"ldavis_el2865140333982390336109995612\", ldavis_el2865140333982390336109995612_data);\n",
       "            })\n",
       "         });\n",
       "}\n",
       "</script>"
      ],
      "text/plain": [
       "PreparedData(topic_coordinates=            Freq  cluster  topics         x    y\n",
       "topic                                           \n",
       "0      50.708678        1       1  0.168086  0.0\n",
       "1      49.291322        1       2 -0.168086  0.0, topic_info=     Category        Freq        Term       Total  loglift  logprob\n",
       "term                                                               \n",
       "18    Default   40.000000    gobierno   40.000000  30.0000  30.0000\n",
       "5     Default   37.000000       chile   37.000000  29.0000  29.0000\n",
       "39    Default   36.000000  presidente   36.000000  28.0000  28.0000\n",
       "45    Default   35.000000   sebastian   35.000000  27.0000  27.0000\n",
       "33    Default   17.000000        pais   17.000000  26.0000  26.0000\n",
       "34    Default   14.000000       peuco   14.000000  25.0000  25.0000\n",
       "48    Default   13.000000       todos   13.000000  24.0000  24.0000\n",
       "41    Default   13.000000       punta   13.000000  23.0000  23.0000\n",
       "29    Default   12.000000      mañana   12.000000  22.0000  22.0000\n",
       "21    Default   11.000000         hoy   11.000000  21.0000  21.0000\n",
       "49    Default   10.000000   venezuela   10.000000  20.0000  20.0000\n",
       "1     Default   10.000000        años   10.000000  19.0000  19.0000\n",
       "22    Default   10.000000   izquierda   10.000000  18.0000  18.0000\n",
       "11    Default    9.000000  democracia    9.000000  17.0000  17.0000\n",
       "24    Default    9.000000         les    9.000000  16.0000  16.0000\n",
       "27    Default    9.000000       mando    9.000000  15.0000  15.0000\n",
       "16    Default    8.000000        esto    8.000000  14.0000  14.0000\n",
       "31    Default    9.000000       nuevo    9.000000  13.0000  13.0000\n",
       "42    Default    8.000000      quiere    8.000000  12.0000  12.0000\n",
       "0     Default    8.000000       asume    8.000000  11.0000  11.0000\n",
       "40    Default    8.000000       puede    8.000000  10.0000  10.0000\n",
       "43    Default    8.000000     reunion    8.000000   9.0000   9.0000\n",
       "13    Default    8.000000         dia    8.000000   8.0000   8.0000\n",
       "25    Default    8.000000       macri    8.000000   7.0000   7.0000\n",
       "9     Default    7.000000          da    7.000000   6.0000   6.0000\n",
       "46    Default    8.000000         son    8.000000   5.0000   5.0000\n",
       "17    Default    8.000000       gente    8.000000   4.0000   4.0000\n",
       "30    Default    7.000000      moneda    7.000000   3.0000   3.0000\n",
       "3     Default    7.000000      cambio    7.000000   2.0000   2.0000\n",
       "23    Default    7.000000          ja    7.000000   1.0000   1.0000\n",
       "...       ...         ...         ...         ...      ...      ...\n",
       "1      Topic2   10.143743        años   10.660015   0.6578  -3.6389\n",
       "48     Topic2   12.460410       todos   13.108090   0.6567  -3.4332\n",
       "11     Topic2    9.406777  democracia    9.914849   0.6548  -3.7143\n",
       "22     Topic2   10.230319   izquierda   10.806609   0.6526  -3.6304\n",
       "24     Topic2    9.304875         les    9.878260   0.6476  -3.7252\n",
       "16     Topic2    8.376768        esto    8.894854   0.6474  -3.8302\n",
       "42     Topic2    8.081906      quiere    8.598641   0.6454  -3.8661\n",
       "31     Topic2    8.683327       nuevo    9.302266   0.6386  -3.7943\n",
       "23     Topic2    6.509423          ja    7.005891   0.6339  -4.0825\n",
       "40     Topic2    7.962126       puede    8.590278   0.6315  -3.8810\n",
       "9      Topic2    7.384358          da    7.982760   0.6295  -3.9563\n",
       "10     Topic2    6.623189        debe    7.162997   0.6291  -4.0651\n",
       "7      Topic2    5.826747       cobre    6.313439   0.6272  -4.1933\n",
       "28     Topic2    5.743134       manos    6.229858   0.6261  -4.2077\n",
       "14     Topic2    6.648812        dias    7.221593   0.6248  -4.0613\n",
       "17     Topic2    7.409121       gente    8.058900   0.6234  -3.9530\n",
       "6      Topic2    6.413756      cierre    6.977408   0.6232  -4.0973\n",
       "44     Topic2    5.680236         sea    6.203651   0.6193  -4.2187\n",
       "12     Topic2    5.704131     derecha    6.237806   0.6180  -4.2145\n",
       "26     Topic2    5.650750         mal    6.217220   0.6119  -4.2239\n",
       "19     Topic2    4.845812        hace    5.332870   0.6116  -4.3776\n",
       "37     Topic2    5.388761         ppk    6.039862   0.5934  -4.2714\n",
       "47     Topic2    5.455449     tiempos    6.229685   0.5747  -4.2591\n",
       "20     Topic2   10.288763         hay   13.563337   0.4311  -3.6247\n",
       "2      Topic2   20.369494    bachelet   34.348438   0.1849  -2.9417\n",
       "36     Topic2  121.083889      piñera  214.730405   0.1345  -1.1592\n",
       "35     Topic2    3.149204       piera    8.211973  -0.2510  -4.8086\n",
       "8      Topic2    0.507365  comisiones    5.771372  -1.7240  -6.6342\n",
       "32     Topic2    0.565066   oposicion    6.725976  -1.7694  -6.5265\n",
       "46     Topic2    0.671324         son    8.623794  -1.8456  -6.3542\n",
       "\n",
       "[96 rows x 6 columns], token_table=      Topic      Freq        Term\n",
       "term                             \n",
       "0         1  0.888927       asume\n",
       "0         2  0.111116       asume\n",
       "1         1  0.093809        años\n",
       "1         2  0.938085        años\n",
       "2         1  0.407588    bachelet\n",
       "2         2  0.582268    bachelet\n",
       "3         1  0.943987      cambio\n",
       "4         1  0.919954      cerrar\n",
       "5         1  0.993771       chile\n",
       "5         2  0.026859       chile\n",
       "6         1  0.143320      cierre\n",
       "6         2  0.859918      cierre\n",
       "7         2  0.950354       cobre\n",
       "8         1  0.866345  comisiones\n",
       "8         2  0.173269  comisiones\n",
       "9         1  0.125270          da\n",
       "9         2  0.876890          da\n",
       "10        1  0.139606        debe\n",
       "10        2  0.977245        debe\n",
       "11        1  0.100859  democracia\n",
       "11        2  0.907729  democracia\n",
       "12        1  0.160313     derecha\n",
       "12        2  0.961877     derecha\n",
       "13        1  0.938208         dia\n",
       "13        2  0.117276         dia\n",
       "14        1  0.138474        dias\n",
       "14        2  0.969315        dias\n",
       "15        1  0.954397     domingo\n",
       "15        2  0.136342     domingo\n",
       "16        1  0.112425        esto\n",
       "...     ...       ...         ...\n",
       "34        1  0.926773       peuco\n",
       "34        2  0.071290       peuco\n",
       "35        1  0.608867       piera\n",
       "35        2  0.365320       piera\n",
       "36        1  0.437758      piñera\n",
       "36        2  0.563497      piñera\n",
       "37        1  0.165567         ppk\n",
       "37        2  0.827834         ppk\n",
       "38        1  0.911540  presidenta\n",
       "39        1  0.988443  presidente\n",
       "39        2  0.027457  presidente\n",
       "40        1  0.116411       puede\n",
       "40        2  0.931285       puede\n",
       "41        1  0.991902       punta\n",
       "41        2  0.076300       punta\n",
       "42        1  0.116297      quiere\n",
       "42        2  0.930380      quiere\n",
       "43        1  0.967757     reunion\n",
       "44        1  0.161195         sea\n",
       "44        2  0.967172         sea\n",
       "45        1  0.996704   sebastian\n",
       "45        2  0.028477   sebastian\n",
       "46        1  0.927666         son\n",
       "46        2  0.115958         son\n",
       "47        1  0.160522     tiempos\n",
       "47        2  0.802609     tiempos\n",
       "48        1  0.076289       todos\n",
       "48        2  0.915465       todos\n",
       "49        1  0.093132   venezuela\n",
       "49        2  0.931319   venezuela\n",
       "\n",
       "[89 rows x 3 columns], R=30, lambda_step=0.01, plot_opts={'xlab': 'PC1', 'ylab': 'PC2'}, topic_order=[1, 2])"
      ]
     },
     "execution_count": 18,
     "metadata": {},
     "output_type": "execute_result"
    }
   ],
   "source": [
    "pyLDAvis.sklearn.prepare(lda, dtm_tf, tf_vectorizer)"
   ]
  },
  {
   "cell_type": "markdown",
   "metadata": {},
   "source": [
    "## Obteniendo las frecuencias"
   ]
  },
  {
   "cell_type": "code",
   "execution_count": 19,
   "metadata": {},
   "outputs": [
    {
     "data": {
      "text/plain": [
       "(187, 1525)"
      ]
     },
     "execution_count": 19,
     "metadata": {},
     "output_type": "execute_result"
    }
   ],
   "source": [
    "tf_vectorizer = CountVectorizer(stop_words=stop_words_es)\n",
    "dtm_tf = tf_vectorizer.fit_transform(formatear(X_train))\n",
    "tfidf_transformer = TfidfTransformer()\n",
    "X_train_tfidf = tfidf_transformer.fit_transform(dtm_tf)\n",
    "X_train_tfidf.shape"
   ]
  },
  {
   "cell_type": "markdown",
   "metadata": {},
   "source": [
    "## Entrenando con Naive Bayes"
   ]
  },
  {
   "cell_type": "code",
   "execution_count": 20,
   "metadata": {},
   "outputs": [],
   "source": [
    "clf = BernoulliNB(fit_prior=False).fit(X_train_tfidf, y_train)"
   ]
  },
  {
   "cell_type": "markdown",
   "metadata": {},
   "source": [
    "## Predicción del modelo"
   ]
  },
  {
   "cell_type": "code",
   "execution_count": 21,
   "metadata": {},
   "outputs": [
    {
     "data": {
      "text/plain": [
       "0.7446808510638298"
      ]
     },
     "execution_count": 21,
     "metadata": {},
     "output_type": "execute_result"
    }
   ],
   "source": [
    "# Se extraen las características de los nuevos tweets\n",
    "dtm_tf_test = tf_vectorizer.transform(formatear(X_test))\n",
    "X_new_tfidf_test = tfidf_transformer.transform(dtm_tf_test)\n",
    "\n",
    "predicted = clf.predict(X_new_tfidf_test)\n",
    "#for tweet, prediction in zip(data_test, predicted):\n",
    "#    print('%r => %s' % (tweet, str(prediction)))\n",
    "\n",
    "np.mean(predicted == y_test)"
   ]
  },
  {
   "cell_type": "markdown",
   "metadata": {},
   "source": [
    "## Entrenando con SVM"
   ]
  },
  {
   "cell_type": "code",
   "execution_count": 22,
   "metadata": {},
   "outputs": [
    {
     "data": {
      "text/plain": [
       "Pipeline(memory=None,\n",
       "     steps=[('vect', CountVectorizer(analyzer='word', binary=False, decode_error='strict',\n",
       "        dtype=<class 'numpy.int64'>, encoding='utf-8', input='content',\n",
       "        lowercase=True, max_df=1.0, max_features=None, min_df=1,\n",
       "        ngram_range=(1, 1), preprocessor=None,\n",
       "        stop_words=['a', 'aca'...ty='l2', power_t=0.5, random_state=42, shuffle=True,\n",
       "       tol=None, verbose=0, warm_start=False))])"
      ]
     },
     "execution_count": 22,
     "metadata": {},
     "output_type": "execute_result"
    }
   ],
   "source": [
    "text_clf = Pipeline([('vect', CountVectorizer(stop_words=stop_words_es)),\n",
    "                      ('tfidf', TfidfTransformer()),\n",
    "                      ('clf', SGDClassifier(loss='hinge', penalty='l2',\n",
    "                                            alpha=1e-3, random_state=42,\n",
    "                                            max_iter=5, tol=None))])\n",
    "text_clf.fit(X_train, y_train)"
   ]
  },
  {
   "cell_type": "code",
   "execution_count": 23,
   "metadata": {},
   "outputs": [
    {
     "data": {
      "text/plain": [
       "0.723404255319149"
      ]
     },
     "execution_count": 23,
     "metadata": {},
     "output_type": "execute_result"
    }
   ],
   "source": [
    "predicted = text_clf.predict(X_test)\n",
    "np.mean(predicted == y_test)"
   ]
  },
  {
   "cell_type": "markdown",
   "metadata": {},
   "source": [
    "## Resultados de Labeled LDA (Stanford Topic Modeling Toolbox)"
   ]
  },
  {
   "cell_type": "code",
   "execution_count": 56,
   "metadata": {},
   "outputs": [
    {
     "name": "stderr",
     "output_type": "stream",
     "text": [
      "/usr/local/lib/python3.5/dist-packages/ipykernel_launcher.py:4: DeprecationWarning: \n",
      ".ix is deprecated. Please use\n",
      ".loc for label based indexing or\n",
      ".iloc for positional indexing\n",
      "\n",
      "See the documentation here:\n",
      "http://pandas.pydata.org/pandas-docs/stable/indexing.html#ix-indexer-is-deprecated\n",
      "  after removing the cwd from sys.path.\n"
     ]
    }
   ],
   "source": [
    "data_test = pd.read_csv('data_limpia_test.csv')\n",
    "inferencia = pd.read_csv('data_infered.csv')\n",
    "\n",
    "inferencia = inferencia.ix[:,1]\n",
    "inferencia = list(map(lambda x: 1 if x >=0.5 else 0, inferencia))"
   ]
  },
  {
   "cell_type": "code",
   "execution_count": 57,
   "metadata": {},
   "outputs": [
    {
     "name": "stdout",
     "output_type": "stream",
     "text": [
      "El accuracy es 0.66\n"
     ]
    },
    {
     "name": "stderr",
     "output_type": "stream",
     "text": [
      "/usr/local/lib/python3.5/dist-packages/ipykernel_launcher.py:4: DeprecationWarning: \n",
      ".ix is deprecated. Please use\n",
      ".loc for label based indexing or\n",
      ".iloc for positional indexing\n",
      "\n",
      "See the documentation here:\n",
      "http://pandas.pydata.org/pandas-docs/stable/indexing.html#ix-indexer-is-deprecated\n",
      "  after removing the cwd from sys.path.\n"
     ]
    }
   ],
   "source": [
    "correct_cases = 0\n",
    "\n",
    "for idx, _ in enumerate(inferencia):\n",
    "    correct_cases += 1 if (inferencia[idx] == data_test.ix[:,2][idx]) else 0\n",
    "        \n",
    "print('El accuracy es {0:.2f}'.format(correct_cases/len(inferencia)))"
   ]
  }
 ],
 "metadata": {
  "kernelspec": {
   "display_name": "Python 3",
   "language": "python",
   "name": "python3"
  },
  "language_info": {
   "codemirror_mode": {
    "name": "ipython",
    "version": 3
   },
   "file_extension": ".py",
   "mimetype": "text/x-python",
   "name": "python",
   "nbconvert_exporter": "python",
   "pygments_lexer": "ipython3",
   "version": "3.5.2"
  }
 },
 "nbformat": 4,
 "nbformat_minor": 2
}
