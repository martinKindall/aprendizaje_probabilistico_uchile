{
 "cells": [
  {
   "cell_type": "markdown",
   "metadata": {},
   "source": [
    "# Tarea 2\n",
    "\n",
    "\n",
    "MA5203 - Aprendizaje de Máquinas Probabilístico\n",
    "\n",
    "Profesor: Felipe Tobar\n",
    "\n",
    "Autor: Martín Cornejo"
   ]
  },
  {
   "cell_type": "markdown",
   "metadata": {},
   "source": [
    "## Paquetes necesarios"
   ]
  },
  {
   "cell_type": "code",
   "execution_count": 1,
   "metadata": {},
   "outputs": [],
   "source": [
    "import numpy as np\n",
    "import matplotlib.pyplot as plt\n",
    "import matplotlib as mpl\n",
    "import pdb"
   ]
  },
  {
   "cell_type": "markdown",
   "metadata": {},
   "source": [
    "# P1 Regresión No Lineal"
   ]
  },
  {
   "cell_type": "code",
   "execution_count": 2,
   "metadata": {},
   "outputs": [],
   "source": [
    "data = np.genfromtxt('datosT2.txt', delimiter=' ')\n",
    "x = data[:,0]\n",
    "y = data[:,1]\n",
    "\n",
    "# dividimos train y test en 75 y 25% respectivamente\n",
    "x_tr = x[0:108];\n",
    "y_tr = y[0:108];\n",
    "\n",
    "x_te = x[108:144];\n",
    "y_te = y[108:144];"
   ]
  },
  {
   "cell_type": "markdown",
   "metadata": {},
   "source": [
    "### i) \n",
    "A continuación se grafica la data:"
   ]
  },
  {
   "cell_type": "code",
   "execution_count": 3,
   "metadata": {},
   "outputs": [
    {
     "data": {
      "text/plain": [
       "<matplotlib.legend.Legend at 0x7fd6693ebcf8>"
      ]
     },
     "execution_count": 3,
     "metadata": {},
     "output_type": "execute_result"
    },
    {
     "data": {
      "image/png": "[encoded data removed]",
      "text/plain": [
       "<Figure size 432x288 with 1 Axes>"
      ]
     },
     "metadata": {},
     "output_type": "display_data"
    }
   ],
   "source": [
    "#mpl.rcParams['figure.figsize'] = (3,3)\n",
    "plt.figure()\n",
    "plt.scatter(x_tr,y_tr, c ='g')\n",
    "plt.scatter(x_te,y_te, c ='b')\n",
    "plt.title(\"Cantidad mensual de pasajeros en aerolínea\")\n",
    "plt.xlabel(\"mes\")\n",
    "plt.ylabel(\"Cantidad de pasajeros\")\n",
    "plt.legend([\"Train\",\"Test\"], bbox_to_anchor=(0.25, 0.9))"
   ]
  },
  {
   "cell_type": "markdown",
   "metadata": {},
   "source": [
    "### ii) "
   ]
  },
  {
   "cell_type": "code",
   "execution_count": 26,
   "metadata": {},
   "outputs": [
    {
     "data": {
      "text/plain": [
       "<matplotlib.collections.PathCollection at 0x7fd668ae1860>"
      ]
     },
     "execution_count": 26,
     "metadata": {},
     "output_type": "execute_result"
    },
    {
     "data": {
      "image/png": "[encoded data removed]",
      "text/plain": [
       "<Figure size 432x288 with 1 Axes>"
      ]
     },
     "metadata": {},
     "output_type": "display_data"
    }
   ],
   "source": [
    "# D = 1\n",
    "grado = 2\n",
    "identity_size = grado + 1\n",
    "x_tildaAlfa = np.array([x_tr, np.ones(len(x_tr))]).transpose()\n",
    "x_tilda = np.append(np.array(np.power(x_tr,2))[np.newaxis].transpose(), x_tilda, axis=1)\n",
    "#pdb.set_trace()\n",
    "y_reg = y_tr\n",
    "rho = 0\n",
    "identidad = np.identity(identity_size)\n",
    "\n",
    "def get_theta(rho):\n",
    "    mul1 = np.linalg.inv(\n",
    "        np.add(\n",
    "            np.matmul(x_tilda.transpose(), x_tilda), \n",
    "            np.dot(identidad, rho)))\n",
    "    mul2 = np.matmul(x_tilda.transpose(), y_reg)\n",
    "    return np.matmul(mul1, mul2)\n",
    "\n",
    "def recta(x, rho): \n",
    "    theta = get_theta(rho)\n",
    "    #pdb.set_trace()\n",
    "    return x*x * theta[0] + x*theta[1] + theta[2]\n",
    "\n",
    "plt.figure()\n",
    "plt.scatter(x_te,recta(x_te, 0), c ='r')\n",
    "plt.scatter(x_te,y_te, c ='b')"
   ]
  },
  {
   "cell_type": "markdown",
   "metadata": {},
   "source": [
    "### Regresión lineal regularizada"
   ]
  },
  {
   "cell_type": "markdown",
   "metadata": {},
   "source": [
    "Sabemos que para la regresión lineal regularizada, el parámetro $\\theta$ tiene la forma:\n",
    "\\begin{equation}\n",
    "\\theta = (\\tilde{X}^{T}\\tilde{X} + \\rho I)^{-1} \\tilde{X}^{T}Y\n",
    "\\end{equation}\n",
    "\n",
    "Dado que este es el caso en que $x \\rightarrow f(x) \\ \\epsilon \\ \\rm I\\!R \\rightarrow \\rm I\\!R$, tenemos que $\\tilde{X}$ tiene la forma\n",
    "\n",
    "\\begin{equation}\n",
    "\\tilde{X} = \\begin{bmatrix}\n",
    "           x_{1} & 1\\\\\n",
    "           x_{2} & 1\\\\\n",
    "           \\vdots & \\vdots \\\\\n",
    "           x_{N} & 1\n",
    "         \\end{bmatrix}\n",
    ", \\ Y = \\begin{bmatrix}\n",
    "           y_{1} \\\\\n",
    "           y_{2} \\\\\n",
    "           \\vdots \\\\\n",
    "           y_{N} \n",
    "         \\end{bmatrix}\n",
    "\\end{equation}\n",
    "\n",
    "Por lo que la identidad pertenecerá a $\\rm I\\!R^{2x2}$ y $\\theta$ a $\\rm I\\!R^{2}$, lo cual tiene sentido ya que $\\theta$ tiene la forma de un vector de dos componentes, cuyos valores corresponderán a la pendiente $m$ y el coeficiente de posición $b$ de una recta. "
   ]
  },
  {
   "cell_type": "code",
   "execution_count": null,
   "metadata": {},
   "outputs": [],
   "source": [
    "x_tilda = np.array([x, np.ones(len(x))]).transpose()\n",
    "y_reg = y\n",
    "rho = 0\n",
    "identidad = np.identity(2)\n",
    "\n",
    "def get_theta(rho):\n",
    "    mul1 = np.linalg.inv(\n",
    "        np.add(\n",
    "            np.matmul(x_tilda.transpose(), x_tilda), \n",
    "            np.dot(identidad, rho)))\n",
    "    mul2 = np.matmul(x_tilda.transpose(), y_reg)\n",
    "    return np.matmul(mul1, mul2)"
   ]
  },
  {
   "cell_type": "markdown",
   "metadata": {},
   "source": [
    "Luego de obtener $\\theta$ en función de $\\rho$, procedemos a graficar predicciones para 10 puntos con distintos valores de $\\rho$:"
   ]
  },
  {
   "cell_type": "code",
   "execution_count": null,
   "metadata": {},
   "outputs": [],
   "source": [
    "def recta(x, rho): \n",
    "    theta = get_theta(rho)\n",
    "    return x * theta[0] + theta[1]\n",
    "\n",
    "mpl.rcParams['figure.figsize'] = (4,4)\n",
    "x_recta = np.linspace(0, 100, 10)\n",
    "scatter_size = 20\n",
    "f, figures = plt.subplots(3, 3, sharex='col', sharey='row')\n",
    "plt.suptitle(\"Proporción de viviendas vs Valor: Predicciones\")\n",
    "rho = np.array([[-25, -15, -5], [0, 10, 20], [30, 40, 50]])\n",
    "for idx, figure_arr in enumerate(figures):\n",
    "    for idy, figure in enumerate(figure_arr):\n",
    "        figure.set_title(\"rho = \" + str(rho[idx][idy]))\n",
    "        figure.scatter(\n",
    "            x_recta,\n",
    "            recta(x_recta, rho[idx][idy]), \n",
    "            s=scatter_size, c='r')\n",
    "        figure.scatter(x,y, s=1, c='g')   \n",
    "            \n",
    "        if idy == 1 and idx == 2:\n",
    "            figure.set_xlabel(\"Unidades construidas\")\n",
    "        \n",
    "        if idy == 0 and idx == 1:\n",
    "            figure.set_ylabel(\"Mediana del valor [miles de dólares]\")\n",
    "            \n",
    "        if idy == len(rho[0]) - 1 and idx == 0:\n",
    "            figure.legend([\"Data\",\"Prediccion\"], bbox_to_anchor=(1.05, 1.40))"
   ]
  },
  {
   "cell_type": "markdown",
   "metadata": {},
   "source": [
    "### Comparando con polyfit\n",
    "\n",
    "Es claro observar que el resultado de __polyfit__ es equivalente a usar nuestro resultado usando $\\rho = 0$, es más notamos que los parámetros de ambas rectas son casi idénticos:"
   ]
  },
  {
   "cell_type": "code",
   "execution_count": null,
   "metadata": {},
   "outputs": [],
   "source": [
    "print(\"Theta polyfit: \", np.polyfit(x,y, 1))\n",
    "print(\"Theta formula: \", get_theta(0))"
   ]
  },
  {
   "cell_type": "code",
   "execution_count": null,
   "metadata": {},
   "outputs": [],
   "source": []
  }
 ],
 "metadata": {
  "kernelspec": {
   "display_name": "Python 3",
   "language": "python",
   "name": "python3"
  },
  "language_info": {
   "codemirror_mode": {
    "name": "ipython",
    "version": 3
   },
   "file_extension": ".py",
   "mimetype": "text/x-python",
   "name": "python",
   "nbconvert_exporter": "python",
   "pygments_lexer": "ipython3",
   "version": "3.5.2"
  }
 },
 "nbformat": 4,
 "nbformat_minor": 2
}
