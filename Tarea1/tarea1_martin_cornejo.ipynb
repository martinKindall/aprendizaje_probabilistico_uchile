{
 "cells": [
  {
   "cell_type": "markdown",
   "metadata": {},
   "source": [
    "<p class=\"float-right\">![logo](https://raw.githubusercontent.com/mmattamala/LogosFCFM/master/Ingenier%C3%ADa%20Matem%C3%A1tica/fcfm_dim_png.png)</p>\n",
    "\n",
    "# Tarea 1\n",
    "\n",
    "\n",
    "MA5203 - Aprendizaje de Máquinas Probabilístico\n",
    "\n",
    "Profesor: Felipe Tobar\n",
    "\n",
    "Autor: Martín Cornejo"
   ]
  },
  {
   "cell_type": "markdown",
   "metadata": {},
   "source": [
    "## Paquetes necesarios"
   ]
  },
  {
   "cell_type": "code",
   "execution_count": 2,
   "metadata": {},
   "outputs": [],
   "source": [
    "import numpy as np\n",
    "import matplotlib.pyplot as plt\n",
    "import pdb"
   ]
  },
  {
   "cell_type": "markdown",
   "metadata": {},
   "source": [
    "# P2 Regresión Lineal"
   ]
  },
  {
   "cell_type": "code",
   "execution_count": 3,
   "metadata": {},
   "outputs": [],
   "source": [
    "data = np.genfromtxt('datosT1.csv', delimiter=',')\n",
    "x = data[:,0]\n",
    "y = data[:,1]"
   ]
  },
  {
   "cell_type": "code",
   "execution_count": 4,
   "metadata": {},
   "outputs": [
    {
     "name": "stdout",
     "output_type": "stream",
     "text": [
      "--Return--\n",
      "> <ipython-input-4-1c5e08bfb0ac>(1)<module>()->None\n",
      "-> pdb.set_trace()\n",
      "(Pdb) continue\n",
      "fin\n"
     ]
    }
   ],
   "source": [
    "pdb.set_trace()\n",
    "print(\"fin\")"
   ]
  },
  {
   "cell_type": "markdown",
   "metadata": {},
   "source": [
    "### A continuación se grafica la data:"
   ]
  },
  {
   "cell_type": "code",
   "execution_count": 18,
   "metadata": {},
   "outputs": [
    {
     "data": {
      "text/plain": [
       "[<matplotlib.lines.Line2D at 0x7f5032c97dd8>]"
      ]
     },
     "execution_count": 18,
     "metadata": {},
     "output_type": "execute_result"
    },
    {
     "data": {
      "image/png": "[encoded data removed]",
      "text/plain": [
       "<Figure size 432x288 with 1 Axes>"
      ]
     },
     "metadata": {},
     "output_type": "display_data"
    }
   ],
   "source": [
    "plt.title(\"Proporción de viviendas vs Valor\")\n",
    "plt.xlabel(\"Unidades construidas\")\n",
    "plt.ylabel(\"Mediana del valor [miles de dólares]\")\n",
    "plt.plot(x,y, 'g.')"
   ]
  },
  {
   "cell_type": "markdown",
   "metadata": {},
   "source": [
    "### Regresión lineal regularizada"
   ]
  },
  {
   "cell_type": "markdown",
   "metadata": {},
   "source": [
    "Sabemos que para la regresión lineal regularizada, el parámetro $\\theta$ tiene la forma:\n",
    "\\begin{equation}\n",
    "\\theta = (\\tilde{X}^{T}\\tilde{X} + \\rho I)^{-1} \\tilde{X}^{T}Y\n",
    "\\end{equation}\n",
    "\n",
    "Dado que este es el caso en que $x \\rightarrow f(x) \\ \\epsilon \\ \\rm I\\!R \\rightarrow \\rm I\\!R$, tenemos que $\\tilde{X}$ tiene la forma\n",
    "\\begin{equation}\n",
    "\\tilde{X} = \\begin{bmatrix}\n",
    "           x_{1} & 1\\\\\n",
    "           x_{2} & 1\\\\\n",
    "           \\vdots & \\vdots \\\\\n",
    "           x_{N} & 1\n",
    "         \\end{bmatrix}\n",
    ", Y = \\begin{bmatrix}\n",
    "           y_{1} \\\\\n",
    "           y_{2} \\\\\n",
    "           \\vdots \\\\\n",
    "           y_{N} \n",
    "         \\end{bmatrix}\n",
    "\\end{equation}\n",
    "Por lo que la identidad pertenecerá a $\\rm I\\!R^{2x2}$ y $\\theta$ a $\\rm I\\!R^{2}$, lo cual tiene sentido ya que $theta$ t valores corresponderán a la pendiente $m$ y el coeficiente de posición $b$ de una recta. "
   ]
  },
  {
   "cell_type": "code",
   "execution_count": null,
   "metadata": {},
   "outputs": [],
   "source": []
  }
 ],
 "metadata": {
  "kernelspec": {
   "display_name": "Python 3",
   "language": "python",
   "name": "python3"
  },
  "language_info": {
   "codemirror_mode": {
    "name": "ipython",
    "version": 3
   },
   "file_extension": ".py",
   "mimetype": "text/x-python",
   "name": "python",
   "nbconvert_exporter": "python",
   "pygments_lexer": "ipython3",
   "version": "3.5.2"
  }
 },
 "nbformat": 4,
 "nbformat_minor": 2
}
